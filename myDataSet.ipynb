{
 "cells": [
  {
   "cell_type": "code",
   "execution_count": 6,
   "metadata": {},
   "outputs": [],
   "source": [
    "import pandas as pd\n",
    "import numpy as np\n",
    "import sklearn"
   ]
  },
  {
   "cell_type": "code",
   "execution_count": 8,
   "metadata": {},
   "outputs": [
    {
     "name": "stdout",
     "output_type": "stream",
     "text": [
      "<class 'pandas.core.frame.DataFrame'>\n",
      "RangeIndex: 253680 entries, 0 to 253679\n",
      "Data columns (total 22 columns):\n",
      " #   Column                Non-Null Count   Dtype  \n",
      "---  ------                --------------   -----  \n",
      " 0   Diabetes_binary       253680 non-null  float64\n",
      " 1   HighBP                253680 non-null  float64\n",
      " 2   HighChol              253680 non-null  float64\n",
      " 3   CholCheck             253680 non-null  float64\n",
      " 4   BMI                   253680 non-null  float64\n",
      " 5   Smoker                253680 non-null  float64\n",
      " 6   Stroke                253680 non-null  float64\n",
      " 7   HeartDiseaseorAttack  253680 non-null  float64\n",
      " 8   PhysActivity          253680 non-null  float64\n",
      " 9   Fruits                253680 non-null  float64\n",
      " 10  Veggies               253680 non-null  float64\n",
      " 11  HvyAlcoholConsump     253680 non-null  float64\n",
      " 12  AnyHealthcare         253680 non-null  float64\n",
      " 13  NoDocbcCost           253680 non-null  float64\n",
      " 14  GenHlth               253680 non-null  float64\n",
      " 15  MentHlth              253680 non-null  float64\n",
      " 16  PhysHlth              253680 non-null  float64\n",
      " 17  DiffWalk              253680 non-null  float64\n",
      " 18  Sex                   253680 non-null  float64\n",
      " 19  Age                   253680 non-null  float64\n",
      " 20  Education             253680 non-null  float64\n",
      " 21  Income                253680 non-null  float64\n",
      "dtypes: float64(22)\n",
      "memory usage: 42.6 MB\n"
     ]
    }
   ],
   "source": [
    "df = pd.read_csv(\"../Data-engineering/MLS-data-eng/archive/diabetes_binary_health_indicators_BRFSS2015.csv\")\n",
    "df.info()"
   ]
  },
  {
   "cell_type": "code",
   "execution_count": 9,
   "metadata": {},
   "outputs": [
    {
     "data": {
      "text/plain": [
       "Diabetes_binary         0\n",
       "HighBP                  0\n",
       "HighChol                0\n",
       "CholCheck               0\n",
       "BMI                     0\n",
       "Smoker                  0\n",
       "Stroke                  0\n",
       "HeartDiseaseorAttack    0\n",
       "PhysActivity            0\n",
       "Fruits                  0\n",
       "Veggies                 0\n",
       "HvyAlcoholConsump       0\n",
       "AnyHealthcare           0\n",
       "NoDocbcCost             0\n",
       "GenHlth                 0\n",
       "MentHlth                0\n",
       "PhysHlth                0\n",
       "DiffWalk                0\n",
       "Sex                     0\n",
       "Age                     0\n",
       "Education               0\n",
       "Income                  0\n",
       "dtype: int64"
      ]
     },
     "execution_count": 9,
     "metadata": {},
     "output_type": "execute_result"
    }
   ],
   "source": [
    "df.isna().sum()"
   ]
  },
  {
   "cell_type": "code",
   "execution_count": 10,
   "metadata": {},
   "outputs": [
    {
     "data": {
      "text/plain": [
       "0         False\n",
       "1         False\n",
       "2         False\n",
       "3         False\n",
       "4         False\n",
       "          ...  \n",
       "253675    False\n",
       "253676    False\n",
       "253677    False\n",
       "253678    False\n",
       "253679    False\n",
       "Length: 253680, dtype: bool"
      ]
     },
     "execution_count": 10,
     "metadata": {},
     "output_type": "execute_result"
    }
   ],
   "source": [
    "df.isna().any(axis=1)"
   ]
  },
  {
   "cell_type": "code",
   "execution_count": 24,
   "metadata": {},
   "outputs": [
    {
     "name": "stdout",
     "output_type": "stream",
     "text": [
      "<class 'pandas.core.frame.DataFrame'>\n",
      "Index: 229474 entries, 0 to 253679\n",
      "Data columns (total 22 columns):\n",
      " #   Column                Non-Null Count   Dtype  \n",
      "---  ------                --------------   -----  \n",
      " 0   Diabetes_binary       229474 non-null  float64\n",
      " 1   HighBP                229474 non-null  float64\n",
      " 2   HighChol              229474 non-null  float64\n",
      " 3   CholCheck             229474 non-null  float64\n",
      " 4   BMI                   229474 non-null  float64\n",
      " 5   Smoker                229474 non-null  float64\n",
      " 6   Stroke                229474 non-null  float64\n",
      " 7   HeartDiseaseorAttack  229474 non-null  float64\n",
      " 8   PhysActivity          229474 non-null  float64\n",
      " 9   Fruits                229474 non-null  float64\n",
      " 10  Veggies               229474 non-null  float64\n",
      " 11  HvyAlcoholConsump     229474 non-null  float64\n",
      " 12  AnyHealthcare         229474 non-null  float64\n",
      " 13  NoDocbcCost           229474 non-null  float64\n",
      " 14  GenHlth               229474 non-null  float64\n",
      " 15  MentHlth              229474 non-null  float64\n",
      " 16  PhysHlth              229474 non-null  float64\n",
      " 17  DiffWalk              229474 non-null  float64\n",
      " 18  Sex                   229474 non-null  float64\n",
      " 19  Age                   229474 non-null  float64\n",
      " 20  Education             229474 non-null  float64\n",
      " 21  Income                229474 non-null  float64\n",
      "dtypes: float64(22)\n",
      "memory usage: 40.3 MB\n"
     ]
    }
   ],
   "source": [
    "df = df.drop_duplicates()\n",
    "df.info()"
   ]
  },
  {
   "cell_type": "code",
   "execution_count": 25,
   "metadata": {},
   "outputs": [
    {
     "data": {
      "text/plain": [
       "(160631, 68843)"
      ]
     },
     "execution_count": 25,
     "metadata": {},
     "output_type": "execute_result"
    }
   ],
   "source": [
    "from sklearn.model_selection import train_test_split\n",
    "from sklearn.linear_model import LogisticRegression\n",
    "from sklearn.inspection import permutation_importance\n",
    "from sklearn.linear_model import LinearRegression\n",
    "\n",
    "train, test = train_test_split(df,\n",
    "                               test_size=0.3,\n",
    "                               stratify=df[\"Diabetes_binary\"],\n",
    "                               random_state=999)\n",
    "len(train), len(test)"
   ]
  },
  {
   "cell_type": "code",
   "execution_count": 26,
   "metadata": {},
   "outputs": [
    {
     "data": {
      "text/plain": [
       "Diabetes_binary\n",
       "0.0    136063\n",
       "1.0     24568\n",
       "Name: count, dtype: int64"
      ]
     },
     "execution_count": 26,
     "metadata": {},
     "output_type": "execute_result"
    }
   ],
   "source": [
    "train[\"Diabetes_binary\"].value_counts()"
   ]
  },
  {
   "cell_type": "code",
   "execution_count": 27,
   "metadata": {},
   "outputs": [
    {
     "data": {
      "text/plain": [
       "Diabetes_binary\n",
       "0.0    58314\n",
       "1.0    10529\n",
       "Name: count, dtype: int64"
      ]
     },
     "execution_count": 27,
     "metadata": {},
     "output_type": "execute_result"
    }
   ],
   "source": [
    "test[\"Diabetes_binary\"].value_counts()"
   ]
  },
  {
   "cell_type": "code",
   "execution_count": 28,
   "metadata": {},
   "outputs": [
    {
     "data": {
      "text/plain": [
       "(6.177107752000647, 6.176914371935119)"
      ]
     },
     "execution_count": 28,
     "metadata": {},
     "output_type": "execute_result"
    }
   ],
   "source": [
    "152834/24742, 65500/10604 ## stratified sample method"
   ]
  },
  {
   "cell_type": "code",
   "execution_count": 29,
   "metadata": {},
   "outputs": [
    {
     "data": {
      "text/plain": [
       "HighBP                  0.001845\n",
       "HighChol                0.001691\n",
       "CholCheck               0.000177\n",
       "BMI                     0.007333\n",
       "Smoker                 -0.000110\n",
       "Stroke                 -0.000032\n",
       "HeartDiseaseorAttack    0.000224\n",
       "PhysActivity           -0.000064\n",
       "Fruits                 -0.000119\n",
       "Veggies                -0.000020\n",
       "HvyAlcoholConsump       0.000497\n",
       "AnyHealthcare          -0.000046\n",
       "NoDocbcCost            -0.000017\n",
       "GenHlth                 0.006063\n",
       "MentHlth                0.000110\n",
       "PhysHlth                0.000285\n",
       "DiffWalk                0.000116\n",
       "Sex                     0.000206\n",
       "Age                     0.000410\n",
       "Education              -0.000293\n",
       "Income                 -0.000046\n",
       "dtype: float64"
      ]
     },
     "execution_count": 29,
     "metadata": {},
     "output_type": "execute_result"
    }
   ],
   "source": [
    "## Logistic Model with all feature in DataFrame\n",
    "feature = train.drop(\"Diabetes_binary\", axis=1).columns\n",
    "diabetes = \"Diabetes_binary\"\n",
    "\n",
    "x_train = train[feature]\n",
    "y_train = train[diabetes]\n",
    "\n",
    "x_test = test[feature]\n",
    "y_test = test[diabetes]\n",
    "\n",
    "model = LogisticRegression(solver='lbfgs', max_iter=500)\n",
    "model.fit(x_train, y_train)\n",
    "\n",
    "importance = permutation_importance(model, x_test, y_test)\n",
    "importance = pd.Series(importance.importances_mean, index=feature)\n",
    "importance.sort_values(ascending=False)\n",
    "importance"
   ]
  },
  {
   "cell_type": "code",
   "execution_count": 30,
   "metadata": {},
   "outputs": [
    {
     "data": {
      "text/plain": [
       "0.8505875688160016"
      ]
     },
     "execution_count": 30,
     "metadata": {},
     "output_type": "execute_result"
    }
   ],
   "source": [
    "model.score(x_test, y_test)"
   ]
  },
  {
   "cell_type": "code",
   "execution_count": 31,
   "metadata": {},
   "outputs": [
    {
     "data": {
      "text/plain": [
       "np.float64(0.23603683897801545)"
      ]
     },
     "execution_count": 31,
     "metadata": {},
     "output_type": "execute_result"
    }
   ],
   "source": [
    "from sklearn.metrics import f1_score\n",
    "\n",
    "y_pred = model.predict(x_test)\n",
    "f1_score(y_test, y_pred)"
   ]
  },
  {
   "cell_type": "code",
   "execution_count": 32,
   "metadata": {},
   "outputs": [
    {
     "data": {
      "text/plain": [
       "HighBP               0.003344\n",
       "HighChol             0.003167\n",
       "CholCheck            0.000305\n",
       "BMI                  0.005749\n",
       "HvyAlcoholConsump    0.000578\n",
       "GenHlth              0.009233\n",
       "PhysHlth             0.000456\n",
       "dtype: float64"
      ]
     },
     "execution_count": 32,
     "metadata": {},
     "output_type": "execute_result"
    }
   ],
   "source": [
    "## Logistic Model without some features (minus feature importance) \n",
    "feature2 = train.drop([\"Diabetes_binary\",\"Stroke\", \"HeartDiseaseorAttack\", \"PhysActivity\",\n",
    "                       \"Veggies\", \"AnyHealthcare\", \"NoDocbcCost\",\n",
    "                       \"MentHlth\", \"DiffWalk\", \"Sex\", \"Age\", \"Education\", \"Income\",\n",
    "                       \"Fruits\", \"Smoker\"], axis=1).columns\n",
    "\n",
    "x2_train = train[feature2]\n",
    "y2_train = train[diabetes]\n",
    "\n",
    "x2_test = test[feature2]\n",
    "y2_test = test[diabetes]\n",
    "\n",
    "model2 = LogisticRegression(solver='lbfgs', max_iter=500)\n",
    "model2.fit(x2_train, y2_train)\n",
    "\n",
    "importance2 = permutation_importance(model2, x2_test, y2_test)\n",
    "importance2 = pd.Series(importance2.importances_mean, index=feature2)\n",
    "importance.sort_values(ascending=False)\n",
    "importance2"
   ]
  },
  {
   "cell_type": "code",
   "execution_count": 33,
   "metadata": {},
   "outputs": [
    {
     "data": {
      "text/plain": [
       "0.8512702816553608"
      ]
     },
     "execution_count": 33,
     "metadata": {},
     "output_type": "execute_result"
    }
   ],
   "source": [
    "model2.score(x2_test, y2_test)"
   ]
  }
 ],
 "metadata": {
  "kernelspec": {
   "display_name": "Python 3",
   "language": "python",
   "name": "python3"
  },
  "language_info": {
   "codemirror_mode": {
    "name": "ipython",
    "version": 3
   },
   "file_extension": ".py",
   "mimetype": "text/x-python",
   "name": "python",
   "nbconvert_exporter": "python",
   "pygments_lexer": "ipython3",
   "version": "3.11.9"
  }
 },
 "nbformat": 4,
 "nbformat_minor": 2
}
