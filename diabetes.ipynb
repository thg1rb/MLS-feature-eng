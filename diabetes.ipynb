{
 "cells": [
  {
   "cell_type": "markdown",
   "metadata": {},
   "source": [
    "### กลุ่ม Diabetes Prediction\n",
    "\n",
    "1. 6610402205 นายรักษิต รุ่งรัตนไชย หมู่ 1\n",
    "2. 6610402132 นายบวรรัตน์ ตั้งนรารัชชกิจ หมู่ 1\n",
    "3. 6610401985 นายไชยวัตน์ หนูวัฒนา หมู่ 1"
   ]
  },
  {
   "cell_type": "markdown",
   "metadata": {},
   "source": [
    "### ลิงค์ไปยังข้อมูลที่จะใช้ในระบบต้นแบบ"
   ]
  },
  {
   "cell_type": "code",
   "execution_count": 1,
   "metadata": {},
   "outputs": [
    {
     "data": {
      "text/html": [
       "<div>\n",
       "<style scoped>\n",
       "    .dataframe tbody tr th:only-of-type {\n",
       "        vertical-align: middle;\n",
       "    }\n",
       "\n",
       "    .dataframe tbody tr th {\n",
       "        vertical-align: top;\n",
       "    }\n",
       "\n",
       "    .dataframe thead th {\n",
       "        text-align: right;\n",
       "    }\n",
       "</style>\n",
       "<table border=\"1\" class=\"dataframe\">\n",
       "  <thead>\n",
       "    <tr style=\"text-align: right;\">\n",
       "      <th></th>\n",
       "      <th>Diabetes_binary</th>\n",
       "      <th>HighBP</th>\n",
       "      <th>HighChol</th>\n",
       "      <th>CholCheck</th>\n",
       "      <th>BMI</th>\n",
       "      <th>Smoker</th>\n",
       "      <th>Stroke</th>\n",
       "      <th>HeartDiseaseorAttack</th>\n",
       "      <th>PhysActivity</th>\n",
       "      <th>Fruits</th>\n",
       "      <th>...</th>\n",
       "      <th>AnyHealthcare</th>\n",
       "      <th>NoDocbcCost</th>\n",
       "      <th>GenHlth</th>\n",
       "      <th>MentHlth</th>\n",
       "      <th>PhysHlth</th>\n",
       "      <th>DiffWalk</th>\n",
       "      <th>Sex</th>\n",
       "      <th>Age</th>\n",
       "      <th>Education</th>\n",
       "      <th>Income</th>\n",
       "    </tr>\n",
       "  </thead>\n",
       "  <tbody>\n",
       "    <tr>\n",
       "      <th>0</th>\n",
       "      <td>0.0</td>\n",
       "      <td>1.0</td>\n",
       "      <td>1.0</td>\n",
       "      <td>1.0</td>\n",
       "      <td>40.0</td>\n",
       "      <td>1.0</td>\n",
       "      <td>0.0</td>\n",
       "      <td>0.0</td>\n",
       "      <td>0.0</td>\n",
       "      <td>0.0</td>\n",
       "      <td>...</td>\n",
       "      <td>1.0</td>\n",
       "      <td>0.0</td>\n",
       "      <td>5.0</td>\n",
       "      <td>18.0</td>\n",
       "      <td>15.0</td>\n",
       "      <td>1.0</td>\n",
       "      <td>0.0</td>\n",
       "      <td>9.0</td>\n",
       "      <td>4.0</td>\n",
       "      <td>3.0</td>\n",
       "    </tr>\n",
       "    <tr>\n",
       "      <th>1</th>\n",
       "      <td>0.0</td>\n",
       "      <td>0.0</td>\n",
       "      <td>0.0</td>\n",
       "      <td>0.0</td>\n",
       "      <td>25.0</td>\n",
       "      <td>1.0</td>\n",
       "      <td>0.0</td>\n",
       "      <td>0.0</td>\n",
       "      <td>1.0</td>\n",
       "      <td>0.0</td>\n",
       "      <td>...</td>\n",
       "      <td>0.0</td>\n",
       "      <td>1.0</td>\n",
       "      <td>3.0</td>\n",
       "      <td>0.0</td>\n",
       "      <td>0.0</td>\n",
       "      <td>0.0</td>\n",
       "      <td>0.0</td>\n",
       "      <td>7.0</td>\n",
       "      <td>6.0</td>\n",
       "      <td>1.0</td>\n",
       "    </tr>\n",
       "    <tr>\n",
       "      <th>2</th>\n",
       "      <td>0.0</td>\n",
       "      <td>1.0</td>\n",
       "      <td>1.0</td>\n",
       "      <td>1.0</td>\n",
       "      <td>28.0</td>\n",
       "      <td>0.0</td>\n",
       "      <td>0.0</td>\n",
       "      <td>0.0</td>\n",
       "      <td>0.0</td>\n",
       "      <td>1.0</td>\n",
       "      <td>...</td>\n",
       "      <td>1.0</td>\n",
       "      <td>1.0</td>\n",
       "      <td>5.0</td>\n",
       "      <td>30.0</td>\n",
       "      <td>30.0</td>\n",
       "      <td>1.0</td>\n",
       "      <td>0.0</td>\n",
       "      <td>9.0</td>\n",
       "      <td>4.0</td>\n",
       "      <td>8.0</td>\n",
       "    </tr>\n",
       "    <tr>\n",
       "      <th>3</th>\n",
       "      <td>0.0</td>\n",
       "      <td>1.0</td>\n",
       "      <td>0.0</td>\n",
       "      <td>1.0</td>\n",
       "      <td>27.0</td>\n",
       "      <td>0.0</td>\n",
       "      <td>0.0</td>\n",
       "      <td>0.0</td>\n",
       "      <td>1.0</td>\n",
       "      <td>1.0</td>\n",
       "      <td>...</td>\n",
       "      <td>1.0</td>\n",
       "      <td>0.0</td>\n",
       "      <td>2.0</td>\n",
       "      <td>0.0</td>\n",
       "      <td>0.0</td>\n",
       "      <td>0.0</td>\n",
       "      <td>0.0</td>\n",
       "      <td>11.0</td>\n",
       "      <td>3.0</td>\n",
       "      <td>6.0</td>\n",
       "    </tr>\n",
       "    <tr>\n",
       "      <th>4</th>\n",
       "      <td>0.0</td>\n",
       "      <td>1.0</td>\n",
       "      <td>1.0</td>\n",
       "      <td>1.0</td>\n",
       "      <td>24.0</td>\n",
       "      <td>0.0</td>\n",
       "      <td>0.0</td>\n",
       "      <td>0.0</td>\n",
       "      <td>1.0</td>\n",
       "      <td>1.0</td>\n",
       "      <td>...</td>\n",
       "      <td>1.0</td>\n",
       "      <td>0.0</td>\n",
       "      <td>2.0</td>\n",
       "      <td>3.0</td>\n",
       "      <td>0.0</td>\n",
       "      <td>0.0</td>\n",
       "      <td>0.0</td>\n",
       "      <td>11.0</td>\n",
       "      <td>5.0</td>\n",
       "      <td>4.0</td>\n",
       "    </tr>\n",
       "  </tbody>\n",
       "</table>\n",
       "<p>5 rows × 22 columns</p>\n",
       "</div>"
      ],
      "text/plain": [
       "   Diabetes_binary  HighBP  HighChol  CholCheck   BMI  Smoker  Stroke  \\\n",
       "0              0.0     1.0       1.0        1.0  40.0     1.0     0.0   \n",
       "1              0.0     0.0       0.0        0.0  25.0     1.0     0.0   \n",
       "2              0.0     1.0       1.0        1.0  28.0     0.0     0.0   \n",
       "3              0.0     1.0       0.0        1.0  27.0     0.0     0.0   \n",
       "4              0.0     1.0       1.0        1.0  24.0     0.0     0.0   \n",
       "\n",
       "   HeartDiseaseorAttack  PhysActivity  Fruits  ...  AnyHealthcare  \\\n",
       "0                   0.0           0.0     0.0  ...            1.0   \n",
       "1                   0.0           1.0     0.0  ...            0.0   \n",
       "2                   0.0           0.0     1.0  ...            1.0   \n",
       "3                   0.0           1.0     1.0  ...            1.0   \n",
       "4                   0.0           1.0     1.0  ...            1.0   \n",
       "\n",
       "   NoDocbcCost  GenHlth  MentHlth  PhysHlth  DiffWalk  Sex   Age  Education  \\\n",
       "0          0.0      5.0      18.0      15.0       1.0  0.0   9.0        4.0   \n",
       "1          1.0      3.0       0.0       0.0       0.0  0.0   7.0        6.0   \n",
       "2          1.0      5.0      30.0      30.0       1.0  0.0   9.0        4.0   \n",
       "3          0.0      2.0       0.0       0.0       0.0  0.0  11.0        3.0   \n",
       "4          0.0      2.0       3.0       0.0       0.0  0.0  11.0        5.0   \n",
       "\n",
       "   Income  \n",
       "0     3.0  \n",
       "1     1.0  \n",
       "2     8.0  \n",
       "3     6.0  \n",
       "4     4.0  \n",
       "\n",
       "[5 rows x 22 columns]"
      ]
     },
     "execution_count": 1,
     "metadata": {},
     "output_type": "execute_result"
    }
   ],
   "source": [
    "import pandas as pd\n",
    "diabetes = pd.read_csv(\"diabetes_binary_health_indicators_BRFSS2015.csv\")\n",
    "diabetes.head()"
   ]
  },
  {
   "cell_type": "markdown",
   "metadata": {},
   "source": [
    "จำนวนข้อมูลทั้งหมด 253,680"
   ]
  },
  {
   "cell_type": "code",
   "execution_count": 2,
   "metadata": {},
   "outputs": [
    {
     "data": {
      "text/plain": [
       "253680"
      ]
     },
     "execution_count": 2,
     "metadata": {},
     "output_type": "execute_result"
    }
   ],
   "source": [
    "len(diabetes)"
   ]
  },
  {
   "cell_type": "markdown",
   "metadata": {},
   "source": [
    "### มีค่าที่หายไป (missing values) หรือไม่ อะไรบ้าง แบบใด มากน้อยแค่ไหน แก้ไขได้อย่างไร (ถ้าเป็นรูปภาพ มีรูปที่ไม่ถูกต้องหรือสมบูรณ์หรือไม่ อย่างไร แก้ไขอย่างไร)\n",
    "\n",
    "เนื่องจากข้อมูลที่นำมาใช้นั้นผ่านกระบวนการจัดการกับข้อมูลมาแล้วในบางขั้นตอนรวมไปถึงการจัดการกับข้อมูลที่สูญหายไปข้อมูลนี้จึงมีความสมบูรณ์ครบถ้วน"
   ]
  },
  {
   "cell_type": "code",
   "execution_count": 3,
   "metadata": {},
   "outputs": [
    {
     "data": {
      "text/plain": [
       "Diabetes_binary         0\n",
       "HighBP                  0\n",
       "HighChol                0\n",
       "CholCheck               0\n",
       "BMI                     0\n",
       "Smoker                  0\n",
       "Stroke                  0\n",
       "HeartDiseaseorAttack    0\n",
       "PhysActivity            0\n",
       "Fruits                  0\n",
       "Veggies                 0\n",
       "HvyAlcoholConsump       0\n",
       "AnyHealthcare           0\n",
       "NoDocbcCost             0\n",
       "GenHlth                 0\n",
       "MentHlth                0\n",
       "PhysHlth                0\n",
       "DiffWalk                0\n",
       "Sex                     0\n",
       "Age                     0\n",
       "Education               0\n",
       "Income                  0\n",
       "dtype: int64"
      ]
     },
     "execution_count": 3,
     "metadata": {},
     "output_type": "execute_result"
    }
   ],
   "source": [
    "diabetes.isna().sum()"
   ]
  },
  {
   "cell_type": "markdown",
   "metadata": {},
   "source": [
    "### แต่ละคุณลักษณะ/feature ต้องมีการทำกระบวนการต่างๆ (operations) หรือไม่ อะไรบ้าง อย่างไร (ถ้าเป็นรูปภาพ ต้องมีลักษณะอย่างไร เช่น ขนาด ความละเอียด รูปแบบไฟล์ ฯลฯ)\n",
    "\n",
    "จะเห็นได้ว่าข้อมูลที่นำมาใช้นั้นมีแต่ตัวเลข เป็นเพราะข้อมูลผ่านการะบวนการต่างๆมาแล้ว โดยการบวนการที่ใช้มีดังนี้\n",
    "\n",
    "* Discretization การแบ่งช่วงของข้อมูล เช่น `Age` แบ่งเป็น 13 ช่วง (1-13) และ `Income` แบ่งเป็น 8 ช่วง (1-8)"
   ]
  },
  {
   "cell_type": "code",
   "execution_count": 4,
   "metadata": {},
   "outputs": [
    {
     "data": {
      "text/plain": [
       "Age\n",
       "9.0     33244\n",
       "10.0    32194\n",
       "8.0     30832\n",
       "7.0     26314\n",
       "11.0    23533\n",
       "6.0     19819\n",
       "13.0    17363\n",
       "5.0     16157\n",
       "12.0    15980\n",
       "4.0     13823\n",
       "3.0     11123\n",
       "2.0      7598\n",
       "1.0      5700\n",
       "Name: count, dtype: int64"
      ]
     },
     "execution_count": 4,
     "metadata": {},
     "output_type": "execute_result"
    }
   ],
   "source": [
    "diabetes.Age.value_counts()"
   ]
  },
  {
   "cell_type": "code",
   "execution_count": 5,
   "metadata": {},
   "outputs": [
    {
     "data": {
      "text/plain": [
       "Income\n",
       "8.0    90385\n",
       "7.0    43219\n",
       "6.0    36470\n",
       "5.0    25883\n",
       "4.0    20135\n",
       "3.0    15994\n",
       "2.0    11783\n",
       "1.0     9811\n",
       "Name: count, dtype: int64"
      ]
     },
     "execution_count": 5,
     "metadata": {},
     "output_type": "execute_result"
    }
   ],
   "source": [
    "diabetes.Income.value_counts()"
   ]
  },
  {
   "cell_type": "markdown",
   "metadata": {},
   "source": [
    "### สำหรับปัญหาและข้อมูลนี้ สามารถป้องกันการเกิด data leakage ได้อย่างไรบ้าง\n",
    "\n"
   ]
  },
  {
   "cell_type": "markdown",
   "metadata": {},
   "source": [
    "ตรวจสอบว่ามีข้อมูลที่ซ้ำกันหรือไม่ จะเห็นได้ว่าในชุดข้อมูลนี้มีข้อมูลที่ซ้ำกัน 24,206 ข้อมูล"
   ]
  },
  {
   "cell_type": "code",
   "execution_count": 6,
   "metadata": {},
   "outputs": [
    {
     "data": {
      "text/plain": [
       "np.int64(24206)"
      ]
     },
     "execution_count": 6,
     "metadata": {},
     "output_type": "execute_result"
    }
   ],
   "source": [
    "diabetes.duplicated().sum()"
   ]
  },
  {
   "cell_type": "markdown",
   "metadata": {},
   "source": [
    "เพื่อไม่ให้เกิด Data leakage ต้องกำจัดข้อมูลที่ซ้ำซ้อนออกไป"
   ]
  },
  {
   "cell_type": "code",
   "execution_count": 7,
   "metadata": {},
   "outputs": [],
   "source": [
    "diabetes.drop_duplicates(inplace=True)"
   ]
  },
  {
   "cell_type": "markdown",
   "metadata": {},
   "source": [
    "ตรวจสอบจำนวนของข้อมูลหลังจากลบข้อมูลที่ซ้ำซ้อนออกไป จะเห็นได้ว่ามีจำนวนข้อมูลลดลงเพราะได้กำจัดข้อมูลที่ซ้ำซ้อนออกไปแล้ว"
   ]
  },
  {
   "cell_type": "code",
   "execution_count": 8,
   "metadata": {},
   "outputs": [
    {
     "data": {
      "text/plain": [
       "229474"
      ]
     },
     "execution_count": 8,
     "metadata": {},
     "output_type": "execute_result"
    }
   ],
   "source": [
    "len(diabetes)"
   ]
  },
  {
   "cell_type": "markdown",
   "metadata": {},
   "source": [
    "### วิเคราะห์ความสำคัญของคุณลักษณะ ตัวไหนควรและไม่ควรใช้ (ถ้าเป็นรูปภาพ ให้วิเคราะห์ลักษณะของรูปที่ควรและไม่ควรใช้)"
   ]
  },
  {
   "cell_type": "markdown",
   "metadata": {},
   "source": [
    "ตรวจสอบฟีเจอร์ทั้งหมดของชุดข้อมูลนี้ มีทั้งหมด 22 ฟีเจอร์"
   ]
  },
  {
   "cell_type": "code",
   "execution_count": 9,
   "metadata": {},
   "outputs": [
    {
     "data": {
      "text/plain": [
       "Index(['Diabetes_binary', 'HighBP', 'HighChol', 'CholCheck', 'BMI', 'Smoker',\n",
       "       'Stroke', 'HeartDiseaseorAttack', 'PhysActivity', 'Fruits', 'Veggies',\n",
       "       'HvyAlcoholConsump', 'AnyHealthcare', 'NoDocbcCost', 'GenHlth',\n",
       "       'MentHlth', 'PhysHlth', 'DiffWalk', 'Sex', 'Age', 'Education',\n",
       "       'Income'],\n",
       "      dtype='object')"
      ]
     },
     "execution_count": 9,
     "metadata": {},
     "output_type": "execute_result"
    }
   ],
   "source": [
    "diabetes.columns"
   ]
  },
  {
   "cell_type": "markdown",
   "metadata": {},
   "source": [
    "แยกชุดข้อมูลที่ใช้ในการเรียนรู้ และชุดข้อมูลที่ใช้ในการทดสอบ แบ่งเป็นสัดส่วนดังนี้\n",
    "\n",
    "* ชุดข้อมูลที่ใช้เรียนรู้ 70%\n",
    "* ชุดข้อมูลที่ใช้ทดสอบ 30%"
   ]
  },
  {
   "cell_type": "code",
   "execution_count": 10,
   "metadata": {},
   "outputs": [
    {
     "data": {
      "text/plain": [
       "(160631, 68843)"
      ]
     },
     "execution_count": 10,
     "metadata": {},
     "output_type": "execute_result"
    }
   ],
   "source": [
    "from sklearn.model_selection import train_test_split\n",
    "from sklearn.inspection import permutation_importance\n",
    "\n",
    "train, test = train_test_split(diabetes,\n",
    "                               test_size=0.3,\n",
    "                               stratify=diabetes[\"Diabetes_binary\"],\n",
    "                               random_state=999)\n",
    "len(train), len(test)"
   ]
  },
  {
   "cell_type": "markdown",
   "metadata": {},
   "source": [
    "ตรวจสอบชุดข้อมูลเรียนรู้"
   ]
  },
  {
   "cell_type": "code",
   "execution_count": 11,
   "metadata": {},
   "outputs": [
    {
     "data": {
      "text/plain": [
       "Diabetes_binary\n",
       "0.0    136063\n",
       "1.0     24568\n",
       "Name: count, dtype: int64"
      ]
     },
     "execution_count": 11,
     "metadata": {},
     "output_type": "execute_result"
    }
   ],
   "source": [
    "train[\"Diabetes_binary\"].value_counts()"
   ]
  },
  {
   "cell_type": "markdown",
   "metadata": {},
   "source": [
    "ตรวจสอบชุดข้อมูลทดสอบ"
   ]
  },
  {
   "cell_type": "code",
   "execution_count": 12,
   "metadata": {},
   "outputs": [
    {
     "data": {
      "text/plain": [
       "Diabetes_binary\n",
       "0.0    58314\n",
       "1.0    10529\n",
       "Name: count, dtype: int64"
      ]
     },
     "execution_count": 12,
     "metadata": {},
     "output_type": "execute_result"
    }
   ],
   "source": [
    "test[\"Diabetes_binary\"].value_counts()"
   ]
  },
  {
   "cell_type": "markdown",
   "metadata": {},
   "source": [
    "กำหนดฟีเจอร์และเฉลยให้กับตัวแปร"
   ]
  },
  {
   "cell_type": "code",
   "execution_count": 13,
   "metadata": {},
   "outputs": [],
   "source": [
    "features = train.drop(\"Diabetes_binary\", axis=1).columns\n",
    "\n",
    "X_train, y_train = train[features], train[\"Diabetes_binary\"]\n",
    "X_test, y_test = test[features], test[\"Diabetes_binary\"]"
   ]
  },
  {
   "cell_type": "markdown",
   "metadata": {},
   "source": [
    "ตรวจสอบความสำคัญของแต่ละฟีเจอร์เพื่อพิจารณานำมาสร้างเป็นโมเดล โดยฟีเจอร์ที่มีความสำคัญมากจะมีค่ามาก และ​ฟีเจอร์ที่มีความสำคัญน้อยจะมีค่าน้อย"
   ]
  },
  {
   "cell_type": "code",
   "execution_count": 14,
   "metadata": {},
   "outputs": [
    {
     "data": {
      "text/plain": [
       "BMI                     0.008134\n",
       "GenHlth                 0.006432\n",
       "HighBP                  0.001958\n",
       "HighChol                0.001743\n",
       "Age                     0.001060\n",
       "HvyAlcoholConsump       0.000691\n",
       "PhysHlth                0.000337\n",
       "HeartDiseaseorAttack    0.000302\n",
       "Sex                     0.000131\n",
       "MentHlth                0.000049\n",
       "DiffWalk                0.000044\n",
       "CholCheck               0.000041\n",
       "AnyHealthcare          -0.000026\n",
       "NoDocbcCost            -0.000032\n",
       "Veggies                -0.000035\n",
       "PhysActivity           -0.000038\n",
       "Stroke                 -0.000046\n",
       "Income                 -0.000116\n",
       "Smoker                 -0.000137\n",
       "Fruits                 -0.000189\n",
       "Education              -0.000302\n",
       "dtype: float64"
      ]
     },
     "execution_count": 14,
     "metadata": {},
     "output_type": "execute_result"
    }
   ],
   "source": [
    "## Logistic Model with all feature in DataFrame\n",
    "from sklearn.linear_model import LogisticRegression\n",
    "\n",
    "model = LogisticRegression(solver='lbfgs', max_iter=500)\n",
    "model.fit(X_train, y_train)\n",
    "\n",
    "importance = permutation_importance(model, X_test, y_test)\n",
    "importance = pd.Series(importance.importances_mean, index=features)\n",
    "importance.sort_values(ascending=False)"
   ]
  },
  {
   "cell_type": "markdown",
   "metadata": {},
   "source": [
    "จากผลลัพธ์ที่ได้เลือกใช้ 9 ฟีเจอร์โดยเลือกจากค่าความสำคัญของแต่ละฟีเจอร์และปัจจัยอื่นๆ ได้แก่ `BMI`, `HighBP`, `HighChol`, `HvyAlcoholConsump`, `Age`, `HeartDiseaseorAttack`, `PhysHlth`, `Sex`, และ `DiffWalk`"
   ]
  },
  {
   "cell_type": "code",
   "execution_count": 15,
   "metadata": {},
   "outputs": [
    {
     "data": {
      "text/html": [
       "<div>\n",
       "<style scoped>\n",
       "    .dataframe tbody tr th:only-of-type {\n",
       "        vertical-align: middle;\n",
       "    }\n",
       "\n",
       "    .dataframe tbody tr th {\n",
       "        vertical-align: top;\n",
       "    }\n",
       "\n",
       "    .dataframe thead th {\n",
       "        text-align: right;\n",
       "    }\n",
       "</style>\n",
       "<table border=\"1\" class=\"dataframe\">\n",
       "  <thead>\n",
       "    <tr style=\"text-align: right;\">\n",
       "      <th></th>\n",
       "      <th>BMI</th>\n",
       "      <th>HighBP</th>\n",
       "      <th>HighChol</th>\n",
       "      <th>HvyAlcoholConsump</th>\n",
       "      <th>HeartDiseaseorAttack</th>\n",
       "      <th>PhysHlth</th>\n",
       "      <th>Sex</th>\n",
       "      <th>CholCheck</th>\n",
       "      <th>DiffWalk</th>\n",
       "    </tr>\n",
       "  </thead>\n",
       "  <tbody>\n",
       "    <tr>\n",
       "      <th>0</th>\n",
       "      <td>40.0</td>\n",
       "      <td>1.0</td>\n",
       "      <td>1.0</td>\n",
       "      <td>0.0</td>\n",
       "      <td>0.0</td>\n",
       "      <td>15.0</td>\n",
       "      <td>0.0</td>\n",
       "      <td>1.0</td>\n",
       "      <td>1.0</td>\n",
       "    </tr>\n",
       "    <tr>\n",
       "      <th>1</th>\n",
       "      <td>25.0</td>\n",
       "      <td>0.0</td>\n",
       "      <td>0.0</td>\n",
       "      <td>0.0</td>\n",
       "      <td>0.0</td>\n",
       "      <td>0.0</td>\n",
       "      <td>0.0</td>\n",
       "      <td>0.0</td>\n",
       "      <td>0.0</td>\n",
       "    </tr>\n",
       "    <tr>\n",
       "      <th>2</th>\n",
       "      <td>28.0</td>\n",
       "      <td>1.0</td>\n",
       "      <td>1.0</td>\n",
       "      <td>0.0</td>\n",
       "      <td>0.0</td>\n",
       "      <td>30.0</td>\n",
       "      <td>0.0</td>\n",
       "      <td>1.0</td>\n",
       "      <td>1.0</td>\n",
       "    </tr>\n",
       "    <tr>\n",
       "      <th>3</th>\n",
       "      <td>27.0</td>\n",
       "      <td>1.0</td>\n",
       "      <td>0.0</td>\n",
       "      <td>0.0</td>\n",
       "      <td>0.0</td>\n",
       "      <td>0.0</td>\n",
       "      <td>0.0</td>\n",
       "      <td>1.0</td>\n",
       "      <td>0.0</td>\n",
       "    </tr>\n",
       "    <tr>\n",
       "      <th>4</th>\n",
       "      <td>24.0</td>\n",
       "      <td>1.0</td>\n",
       "      <td>1.0</td>\n",
       "      <td>0.0</td>\n",
       "      <td>0.0</td>\n",
       "      <td>0.0</td>\n",
       "      <td>0.0</td>\n",
       "      <td>1.0</td>\n",
       "      <td>0.0</td>\n",
       "    </tr>\n",
       "  </tbody>\n",
       "</table>\n",
       "</div>"
      ],
      "text/plain": [
       "    BMI  HighBP  HighChol  HvyAlcoholConsump  HeartDiseaseorAttack  PhysHlth  \\\n",
       "0  40.0     1.0       1.0                0.0                   0.0      15.0   \n",
       "1  25.0     0.0       0.0                0.0                   0.0       0.0   \n",
       "2  28.0     1.0       1.0                0.0                   0.0      30.0   \n",
       "3  27.0     1.0       0.0                0.0                   0.0       0.0   \n",
       "4  24.0     1.0       1.0                0.0                   0.0       0.0   \n",
       "\n",
       "   Sex  CholCheck  DiffWalk  \n",
       "0  0.0        1.0       1.0  \n",
       "1  0.0        0.0       0.0  \n",
       "2  0.0        1.0       1.0  \n",
       "3  0.0        1.0       0.0  \n",
       "4  0.0        1.0       0.0  "
      ]
     },
     "execution_count": 15,
     "metadata": {},
     "output_type": "execute_result"
    }
   ],
   "source": [
    "features = [\"BMI\", \"HighBP\", \"HighChol\", \"HvyAlcoholConsump\", \"HeartDiseaseorAttack\", \"PhysHlth\", \"Sex\", \"CholCheck\", \"DiffWalk\"]\n",
    "\n",
    "new_diabetes = diabetes[features]\n",
    "new_diabetes.head()"
   ]
  },
  {
   "cell_type": "markdown",
   "metadata": {},
   "source": [
    "### ประเด็นอื่น ๆ ที่เกี่ยวข้องกับข้อมูลของตัวเอง\n",
    "\n",
    "ก่อนที่จะตรวจสอบค่าความสำคัญของแต่ละฟีเจอร์ได้นั้นจำเป็นต้องมีโมเดลก่อนเสมอ เพื่อนำโมเดลที่มีอยู่ไปทดสอบพร้อมๆกับข้อมูลทดสอบ และประมวลผลค่าความสำคัญของแต่ละฟีเจอร์ออกมา เนื่องจากชุดข้อมูลที่ใช้นั้นเป็นแบบ Classification หรือ แบ่งแยกประเภท ซึ่งสามารถสร้างโมเดลได้หลากหลายรูปแบบ ดังนั้นจึงทำการทดสอบสร้างโมเดลหลายๆรูปแบบที่แตกต่างกันแล้วนำมาประเมินผล ได้ผลสรุปว่าโมเดลแบบ Logistic Regression นั้นมีประสิทธิภาพมากที่สุด โดยวัดจากค่า accuracy และ ความสมเหตุสมผลของค่าความสำคัญของฟีเจอร์"
   ]
  },
  {
   "cell_type": "markdown",
   "metadata": {},
   "source": [
    "### การมีส่วนร่วมของสมาชิกแต่ละคนในกลุ่ม (แต่ละคนทำอะไรบ้าง)\n",
    "* นายรักษิต รุ่งรัตนไชย ตรวจสอบข้อมูลที่สูญหาย และอธิบายการดำเนินการของคอลัมม์\n",
    "* นายบวรรัตน์ ตั้งนรารัชชกิจ จัดการกับข้อมูลที่ซ้ำซ้อนเพื่อป้องกันการเห็นข้อมูลก่อนทดสอบของโมเดล\n",
    "* นายไชยวัตน์ หนูวัฒนา สร้างโมเดลเพื่อนำไปประมวลผลค่าความสำคัญของแต่ฟีเจอร์"
   ]
  },
  {
   "cell_type": "markdown",
   "metadata": {},
   "source": [
    "### การเปิดเผยการใช้เครื่องมือปัญญาประดิษฐ์ (ใช้อะไร ใช้เพื่ออะไร ใช้อย่างไร, prompt อย่างไร)"
   ]
  },
  {
   "cell_type": "markdown",
   "metadata": {},
   "source": [
    "ไม่ได้มีการใช้ AI หรือเครื่องมือปัญญาประดิษฐ์ใดๆในงานนี้"
   ]
  }
 ],
 "metadata": {
  "kernelspec": {
   "display_name": "MLS262",
   "language": "python",
   "name": "python3"
  },
  "language_info": {
   "codemirror_mode": {
    "name": "ipython",
    "version": 3
   },
   "file_extension": ".py",
   "mimetype": "text/x-python",
   "name": "python",
   "nbconvert_exporter": "python",
   "pygments_lexer": "ipython3",
   "version": "3.10.11"
  }
 },
 "nbformat": 4,
 "nbformat_minor": 2
}
